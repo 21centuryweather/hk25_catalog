{
 "cells": [
  {
   "cell_type": "code",
   "execution_count": null,
   "id": "08d4a4c5-b56a-466b-8b33-249a17412930",
   "metadata": {},
   "outputs": [],
   "source": [
    "## Standard Stuff\n",
    "import numpy as np\n",
    "import xarray as xr\n",
    "import cartopy.crs as ccrs\n",
    "import cartopy.feature as cf\n",
    "import matplotlib.pyplot as plt\n",
    "import dask.array as da\n",
    "import numcodecs\n",
    "\n",
    "## HEALPix Specific\n",
    "import healpix as hp\n",
    "import easygems.healpix as egh\n",
    "import easygems.remap as egr\n",
    "\n",
    "import intake     # For catalogs\n",
    "import zarr       # Data Formatting\n"
   ]
  },
  {
   "cell_type": "code",
   "execution_count": null,
   "id": "21ecd31b-1edd-4492-8a7f-2667eadb5df6",
   "metadata": {},
   "outputs": [],
   "source": [
    "plt.rcParams['figure.figsize'] = [12, 8]"
   ]
  },
  {
   "cell_type": "code",
   "execution_count": null,
   "id": "c063bf57-b366-4d43-a43a-fe7b3140b501",
   "metadata": {},
   "outputs": [],
   "source": [
    "opth='/global/cfs/cdirs/m4549/scream-cess-healpix/'\n",
    "#opth='/pscratch/sd/a/agett/scream/cess-copy/'"
   ]
  },
  {
   "cell_type": "markdown",
   "id": "6c22797b-f390-4052-b9e6-8fae1bd80ad9",
   "metadata": {},
   "source": [
    "### Catalog test"
   ]
  },
  {
   "cell_type": "code",
   "execution_count": null,
   "id": "ecf6618c-c525-467d-9570-28146c935c97",
   "metadata": {},
   "outputs": [],
   "source": [
    "catfn='/global/u1/a/agett/python/hackathon/scream_catalog.yaml'\n",
    "scream_cat = intake.open_catalog(catfn)\n",
    "\n",
    "# List different 'types' of data\n",
    "print (list (scream_cat)) \n"
   ]
  },
  {
   "cell_type": "code",
   "execution_count": null,
   "id": "e606445c-a823-4569-b879-1f13cc94ea80",
   "metadata": {},
   "outputs": [],
   "source": [
    "z=8\n",
    "ds_2D = scream_cat.scream2D_ne120(zoom=z).to_dask()\n",
    "ds_2D = ds_2D.pipe(egh.attach_coords)\n",
    "ds_2D"
   ]
  },
  {
   "cell_type": "code",
   "execution_count": null,
   "id": "89e1e09f-ef29-40d9-a3af-584ab27a4533",
   "metadata": {},
   "outputs": [],
   "source": [
    "vart='tas'\n",
    "tm='2020-01-05'\n",
    "tmp=ds_2D[vart].sel(time=tm)[0]\n",
    "\n",
    "egh.healpix_show(tmp)\n",
    "plt.title('SCREAM '+vart+' '+tm+' HEALPix Level '+str(z))"
   ]
  },
  {
   "cell_type": "markdown",
   "id": "e2277092-83d2-491f-b43b-aafa13cc4210",
   "metadata": {},
   "source": [
    "### 2D hourly\n",
    "Catalog entry with Multiple zarr files for variables merged"
   ]
  },
  {
   "cell_type": "code",
   "execution_count": null,
   "id": "82e5d419-f271-4379-bb02-0a51104127e9",
   "metadata": {},
   "outputs": [],
   "source": [
    "z=8\n",
    "ds_hr = scream_cat.scream2D_hrly(zoom=z).to_dask()\n",
    "ds_hr = ds_hr.pipe(egh.attach_coords)\n",
    "ds_hr"
   ]
  },
  {
   "cell_type": "code",
   "execution_count": null,
   "id": "197e4f75-b73d-42ee-97d4-3dfea238f565",
   "metadata": {},
   "outputs": [],
   "source": [
    "vt='rlut'"
   ]
  },
  {
   "cell_type": "code",
   "execution_count": null,
   "id": "6d7a65a6-7ee8-4d96-8ee7-f7ac47118daf",
   "metadata": {},
   "outputs": [],
   "source": [
    "tm='2020-01-05'\n",
    "tmp=ds_hr[vt].sel(time=tm)[0]\n",
    "\n",
    "egh.healpix_show(tmp,cmap='binary')\n",
    "plt.title('SCREAM '+vt+' '+tm+' HEALPix Level '+str(z))"
   ]
  },
  {
   "cell_type": "markdown",
   "id": "9597488e-b913-4ae8-a5e5-7dc7ac9d06f1",
   "metadata": {},
   "source": [
    "### Land Variables"
   ]
  },
  {
   "cell_type": "code",
   "execution_count": null,
   "id": "2703bef5-185e-4e71-835a-b04670ff8031",
   "metadata": {},
   "outputs": [],
   "source": [
    "z=8\n",
    "ds_lnd = scream_cat.scream_lnd(zoom=z).to_dask()\n",
    "ds_lnd= ds_lnd.pipe(egh.attach_coords)\n",
    "ds_lnd"
   ]
  },
  {
   "cell_type": "code",
   "execution_count": null,
   "id": "979b4796-43f1-49aa-bf5e-7ccc2efca10b",
   "metadata": {},
   "outputs": [],
   "source": [
    "vt='mrso'\n",
    "tm='2020-01-05'\n",
    "tmp=ds_lnd[vt].sel(time=tm)[0]\n",
    "\n",
    "egh.healpix_show(tmp)\n",
    "plt.title('SCREAM '+vt+' '+tm+' HEALPix Level '+str(z))"
   ]
  },
  {
   "cell_type": "markdown",
   "id": "653d17ea-5c94-4799-9ac4-79f5fc1afade",
   "metadata": {},
   "source": [
    "### 3D variables"
   ]
  },
  {
   "cell_type": "code",
   "execution_count": null,
   "id": "26ece899-1b90-4574-ad7f-f09375ebb754",
   "metadata": {},
   "outputs": [],
   "source": [
    "z=8\n",
    "ds_3d = scream_cat.scream3D_ne120(zoom=z).to_dask()\n",
    "ds_3d = ds_3d.pipe(egh.attach_coords)\n",
    "ds_3d"
   ]
  },
  {
   "cell_type": "code",
   "execution_count": null,
   "id": "ad390b78-2482-4a34-b756-3c6066456bcb",
   "metadata": {},
   "outputs": [],
   "source": [
    "%%time\n",
    "\n",
    "vt='ta'\n",
    "tm='2020-01-05'\n",
    "tmp=ds_3d[vt].sel(time=tm)[0]\n",
    "\n",
    "zm = (\n",
    "    tmp\n",
    "    .groupby(\"lat\")\n",
    "    .mean()\n",
    ").compute()"
   ]
  },
  {
   "cell_type": "code",
   "execution_count": null,
   "id": "7484124c-996e-41e4-b9ea-8a8db61f8668",
   "metadata": {},
   "outputs": [],
   "source": [
    "zm.plot()"
   ]
  }
 ],
 "metadata": {
  "kernelspec": {
   "display_name": "hk25env",
   "language": "python",
   "name": "hk25env"
  },
  "language_info": {
   "codemirror_mode": {
    "name": "ipython",
    "version": 3
   },
   "file_extension": ".py",
   "mimetype": "text/x-python",
   "name": "python",
   "nbconvert_exporter": "python",
   "pygments_lexer": "ipython3",
   "version": "3.12.10"
  }
 },
 "nbformat": 4,
 "nbformat_minor": 5
}
