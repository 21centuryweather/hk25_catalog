{
 "cells": [
  {
   "cell_type": "code",
   "execution_count": null,
   "id": "08d4a4c5-b56a-466b-8b33-249a17412930",
   "metadata": {},
   "outputs": [],
   "source": [
    "## Standard Stuff\n",
    "import numpy as np\n",
    "import xarray as xr\n",
    "import cartopy.crs as ccrs\n",
    "import cartopy.feature as cf\n",
    "import matplotlib.pyplot as plt\n",
    "import dask.array as da\n",
    "import numcodecs\n",
    "\n",
    "## HEALPix Specific\n",
    "import healpix as hp\n",
    "import easygems.healpix as egh\n",
    "import easygems.remap as egr\n",
    "\n",
    "import intake     # For catalogs\n",
    "import zarr       # Data Formatting\n"
   ]
  },
  {
   "cell_type": "code",
   "execution_count": null,
   "id": "21ecd31b-1edd-4492-8a7f-2667eadb5df6",
   "metadata": {},
   "outputs": [],
   "source": [
    "plt.rcParams['figure.figsize'] = [12, 8]"
   ]
  },
  {
   "cell_type": "code",
   "execution_count": null,
   "id": "c063bf57-b366-4d43-a43a-fe7b3140b501",
   "metadata": {},
   "outputs": [],
   "source": [
    "opth='/global/cfs/cdirs/m4549/scream-cess-healpix/'\n",
    "#opth='/pscratch/sd/a/agett/scream/cess-copy/'"
   ]
  },
  {
   "cell_type": "markdown",
   "id": "6c22797b-f390-4052-b9e6-8fae1bd80ad9",
   "metadata": {},
   "source": [
    "### Read Catalog"
   ]
  },
  {
   "cell_type": "code",
   "execution_count": null,
   "id": "ecf6618c-c525-467d-9570-28146c935c97",
   "metadata": {},
   "outputs": [],
   "source": [
    "catfn='/global/u1/a/agett/python/hackathon/scream_catalog.yaml'\n",
    "scream_cat = intake.open_catalog(catfn)\n",
    "\n",
    "# List different 'types' of data\n",
    "print (list (scream_cat)) \n"
   ]
  },
  {
   "cell_type": "markdown",
   "id": "d826356a-4e2e-41a5-b48a-168c1e77bf29",
   "metadata": {},
   "source": [
    "### Combined ne120 (2D and 3D)"
   ]
  },
  {
   "cell_type": "code",
   "execution_count": null,
   "id": "1da999e2-1e1b-4aa0-ad42-0c0b3366d500",
   "metadata": {},
   "outputs": [],
   "source": [
    "z=6\n",
    "ds3hr = scream_cat.scream_ne120(zoom=z).to_dask()\n",
    "ds3hr = ds3hr.pipe(egh.attach_coords)\n",
    "ds3hr"
   ]
  },
  {
   "cell_type": "markdown",
   "id": "22320aca-8193-43a3-8515-db588f4d5135",
   "metadata": {},
   "source": [
    "#### Plot 2D"
   ]
  },
  {
   "cell_type": "code",
   "execution_count": null,
   "id": "89e1e09f-ef29-40d9-a3af-584ab27a4533",
   "metadata": {},
   "outputs": [],
   "source": [
    "vart='tas'\n",
    "tm='2020-01-05'\n",
    "tmp=ds3hr[vart].sel(time=tm)[0]\n",
    "\n",
    "egh.healpix_show(tmp)\n",
    "plt.title('SCREAM '+vart+' '+tm+' HEALPix Level '+str(z))"
   ]
  },
  {
   "cell_type": "markdown",
   "id": "54e26ea2-fe32-4bd9-9ba8-8b68477c2261",
   "metadata": {},
   "source": [
    "#### Plot 3D"
   ]
  },
  {
   "cell_type": "code",
   "execution_count": null,
   "id": "48d6ab44-0dd7-4c90-ab8d-dd54ef7d0075",
   "metadata": {},
   "outputs": [],
   "source": [
    "%%time\n",
    "\n",
    "vt='ta'\n",
    "tm='2020-01-05'\n",
    "tmp=ds3hr[vt].sel(time=tm)[0]\n",
    "\n",
    "zm = (\n",
    "    tmp\n",
    "    .groupby(\"lat\")\n",
    "    .mean()\n",
    ").compute()\n",
    "\n",
    "zm.plot()"
   ]
  },
  {
   "cell_type": "markdown",
   "id": "e2277092-83d2-491f-b43b-aafa13cc4210",
   "metadata": {},
   "source": [
    "### 2D hourly\n",
    "Catalog entry with Multiple zarr files for variables merged"
   ]
  },
  {
   "cell_type": "code",
   "execution_count": null,
   "id": "82e5d419-f271-4379-bb02-0a51104127e9",
   "metadata": {},
   "outputs": [],
   "source": [
    "z=8\n",
    "ds_hr = scream_cat.scream2D_hrly(zoom=z).to_dask()\n",
    "ds_hr = ds_hr.pipe(egh.attach_coords)\n",
    "ds_hr"
   ]
  },
  {
   "cell_type": "code",
   "execution_count": null,
   "id": "197e4f75-b73d-42ee-97d4-3dfea238f565",
   "metadata": {},
   "outputs": [],
   "source": [
    "vt='rlut'"
   ]
  },
  {
   "cell_type": "code",
   "execution_count": null,
   "id": "6d7a65a6-7ee8-4d96-8ee7-f7ac47118daf",
   "metadata": {},
   "outputs": [],
   "source": [
    "tm='2020-01-05'\n",
    "tmp=ds_hr[vt].sel(time=tm)[0]\n",
    "\n",
    "egh.healpix_show(tmp,cmap='binary')\n",
    "plt.title('SCREAM '+vt+' '+tm+' HEALPix Level '+str(z))"
   ]
  },
  {
   "cell_type": "markdown",
   "id": "9597488e-b913-4ae8-a5e5-7dc7ac9d06f1",
   "metadata": {},
   "source": [
    "### Land Variables"
   ]
  },
  {
   "cell_type": "code",
   "execution_count": null,
   "id": "2703bef5-185e-4e71-835a-b04670ff8031",
   "metadata": {},
   "outputs": [],
   "source": [
    "z=8\n",
    "ds_lnd = scream_cat.scream_lnd(zoom=z).to_dask()\n",
    "ds_lnd= ds_lnd.pipe(egh.attach_coords)\n",
    "ds_lnd"
   ]
  },
  {
   "cell_type": "code",
   "execution_count": null,
   "id": "45225e39-8b4e-40c7-8419-4e8cbe65cf8e",
   "metadata": {},
   "outputs": [],
   "source": [
    "#ds_lnd.time[0:10]"
   ]
  },
  {
   "cell_type": "code",
   "execution_count": null,
   "id": "979b4796-43f1-49aa-bf5e-7ccc2efca10b",
   "metadata": {},
   "outputs": [],
   "source": [
    "vt='mrso'\n",
    "tm='2020-01-05'\n",
    "tmp=ds_lnd[vt].sel(time=tm)[0]\n",
    "\n",
    "egh.healpix_show(tmp)\n",
    "plt.title('SCREAM '+vt+' '+tm+' HEALPix Level '+str(z))"
   ]
  }
 ],
 "metadata": {
  "kernelspec": {
   "display_name": "hk25env",
   "language": "python",
   "name": "hk25env"
  },
  "language_info": {
   "codemirror_mode": {
    "name": "ipython",
    "version": 3
   },
   "file_extension": ".py",
   "mimetype": "text/x-python",
   "name": "python",
   "nbconvert_exporter": "python",
   "pygments_lexer": "ipython3",
   "version": "3.12.10"
  }
 },
 "nbformat": 4,
 "nbformat_minor": 5
}
